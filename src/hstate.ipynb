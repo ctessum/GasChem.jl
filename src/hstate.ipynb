{
 "cells": [
  {
   "cell_type": "code",
   "execution_count": null,
   "metadata": {},
   "outputs": [],
   "source": []
  }
 ],
 "metadata": {
  "kernelspec": {
   "display_name": "Python 3.10.7 64-bit",
   "language": "python",
   "name": "python3"
  },
  "language_info": {
   "name": "python",
   "version": "3.10.7"
  },
  "orig_nbformat": 4,
  "vscode": {
   "interpreter": {
    "hash": "5a7140803a7b2c3132b5f7e8569be2dbd383e4eae3d8b695fc67f7c7d8cc1f38"
   }
  }
 },
 "nbformat": 4,
 "nbformat_minor": 2
}
